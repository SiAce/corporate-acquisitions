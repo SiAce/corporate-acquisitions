{
 "cells": [
  {
   "cell_type": "markdown",
   "source": [
    "# Corporate Acquisitions Analysis"
   ],
   "metadata": {
    "collapsed": false
   }
  },
  {
   "cell_type": "code",
   "execution_count": 9,
   "outputs": [],
   "source": [
    "import pandas as pd"
   ],
   "metadata": {
    "collapsed": false,
    "pycharm": {
     "name": "#%%\n"
    }
   }
  },
  {
   "cell_type": "code",
   "execution_count": 10,
   "outputs": [
    {
     "name": "stdout",
     "output_type": "stream",
     "text": [
      "      Unnamed: 0 acquired_by                date              company  \\\n",
      "0              0   Microsoft  September 13, 2018                 Lobe   \n",
      "1              1   Microsoft     October 9, 2018                Glint   \n",
      "2              2   Microsoft        May 19, 2020          Softomotive   \n",
      "3              3   Microsoft        May 14, 2020  Metaswitch Networks   \n",
      "4              4   Microsoft      March 26, 2020    Affirmed Networks   \n",
      "...          ...         ...                 ...                  ...   \n",
      "2123        2123      Yahoo!     October 4, 2014            MessageMe   \n",
      "2124        2124      Yahoo!   November 11, 2014           BrightRoll   \n",
      "2125        2125      Yahoo!   November 21, 2014             Cooliris   \n",
      "2126        2126      Yahoo!   December 11, 2014      Media Group One   \n",
      "2127        2127      Yahoo!       July 31, 2015             Polyvore   \n",
      "\n",
      "                          business        location         value  \\\n",
      "0          Artificial intelligence   United States           NaN   \n",
      "1              Employee engagement   United States  4.000000e+08   \n",
      "2       Robotic Process Automation  United Kingdom           NaN   \n",
      "3                    5G Networking  United Kingdom           NaN   \n",
      "4                    5G networking   United States  1.350000e+09   \n",
      "...                            ...             ...           ...   \n",
      "2123                 Messaging app             USA           NaN   \n",
      "2124      Online video advertising             USA  6.400000e+08   \n",
      "2125                 Photo viewing             USA           NaN   \n",
      "2126  Advertising and online video             GER           NaN   \n",
      "2127   Clothing e-commerce website             USA  1.600000e+08   \n",
      "\n",
      "              used_as  \n",
      "0                 NaN  \n",
      "1                 NaN  \n",
      "2                 NaN  \n",
      "3                 NaN  \n",
      "4                 NaN  \n",
      "...               ...  \n",
      "2123  Yahoo! Livetext  \n",
      "2124              NaN  \n",
      "2125              NaN  \n",
      "2126              NaN  \n",
      "2127              NaN  \n",
      "\n",
      "[2128 rows x 8 columns]\n"
     ]
    }
   ],
   "source": [
    "acquisitions = pd.read_csv(\"acquisitions.tsv\", sep=\"\\t\")\n",
    "print(acquisitions)"
   ],
   "metadata": {
    "collapsed": false,
    "pycharm": {
     "name": "#%%\n"
    }
   }
  },
  {
   "cell_type": "code",
   "execution_count": 18,
   "outputs": [],
   "source": [
    "acquisitions = acquisitions.iloc[:, 1:]"
   ],
   "metadata": {
    "collapsed": false,
    "pycharm": {
     "name": "#%%\n"
    }
   }
  },
  {
   "cell_type": "code",
   "execution_count": 19,
   "outputs": [],
   "source": [
    "acquisitions.to_csv(\"acquisitions.tsv\", sep=\"\\t\", index=False)\n"
   ],
   "metadata": {
    "collapsed": false,
    "pycharm": {
     "name": "#%%\n"
    }
   }
  }
 ],
 "metadata": {
  "kernelspec": {
   "display_name": "Python 3",
   "language": "python",
   "name": "python3"
  },
  "language_info": {
   "codemirror_mode": {
    "name": "ipython",
    "version": 2
   },
   "file_extension": ".py",
   "mimetype": "text/x-python",
   "name": "python",
   "nbconvert_exporter": "python",
   "pygments_lexer": "ipython2",
   "version": "2.7.6"
  }
 },
 "nbformat": 4,
 "nbformat_minor": 0
}